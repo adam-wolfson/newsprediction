{
  "nbformat": 4,
  "nbformat_minor": 0,
  "metadata": {
    "colab": {
      "name": "News Prediction: Titles.ipynb",
      "provenance": [],
      "collapsed_sections": []
    },
    "kernelspec": {
      "name": "python3",
      "display_name": "Python 3"
    },
    "language_info": {
      "name": "python"
    }
  },
  "cells": [
    {
      "cell_type": "code",
      "metadata": {
        "id": "pNQ711CmJ2Wl"
      },
      "source": [
        "import pandas as pd\n",
        "import numpy as np\n",
        "import io\n",
        "from sklearn.model_selection import train_test_split\n",
        "import matplotlib.pyplot as plt\n",
        "import seaborn as sns\n",
        "from sklearn.linear_model import LogisticRegressionCV"
      ],
      "execution_count": null,
      "outputs": []
    },
    {
      "cell_type": "code",
      "metadata": {
        "id": "kBqIP3TGJ6Xb"
      },
      "source": [
        "nbc = pd.read_csv('NBC-Remove-News-Source.csv')\n",
        "nbc = nbc[:1721]\n",
        "bbc = pd.read_csv('BBC-Remove-News-Source.csv')\n",
        "bbc = bbc[:1721]\n",
        "fox = pd.read_csv('Fox-Remove-News-Source.csv')\n",
        "fox = fox[:1721]"
      ],
      "execution_count": null,
      "outputs": []
    },
    {
      "cell_type": "code",
      "metadata": {
        "id": "rADqG9EWxcFO"
      },
      "source": [
        ""
      ],
      "execution_count": null,
      "outputs": []
    },
    {
      "cell_type": "code",
      "metadata": {
        "colab": {
          "base_uri": "https://localhost:8080/",
          "height": 483
        },
        "id": "OWWUqHjuJ88j",
        "outputId": "2492df16-2d3c-4bdf-92fc-151909ec5ccb"
      },
      "source": [
        "#source code 0 for NBC, 1 for BBC, 2 for FOX\n",
        "nbc['Source Code'] = 0\n",
        "bbc['Source Code'] = 1\n",
        "fox['Source Code'] = 2\n",
        "nbc.head()"
      ],
      "execution_count": null,
      "outputs": [
        {
          "output_type": "execute_result",
          "data": {
            "text/html": [
              "<div>\n",
              "<style scoped>\n",
              "    .dataframe tbody tr th:only-of-type {\n",
              "        vertical-align: middle;\n",
              "    }\n",
              "\n",
              "    .dataframe tbody tr th {\n",
              "        vertical-align: top;\n",
              "    }\n",
              "\n",
              "    .dataframe thead th {\n",
              "        text-align: right;\n",
              "    }\n",
              "</style>\n",
              "<table border=\"1\" class=\"dataframe\">\n",
              "  <thead>\n",
              "    <tr style=\"text-align: right;\">\n",
              "      <th></th>\n",
              "      <th>Unnamed: 0</th>\n",
              "      <th>Article Date</th>\n",
              "      <th>Article Text</th>\n",
              "      <th>Article Title</th>\n",
              "      <th>Article URL</th>\n",
              "      <th>Source Code</th>\n",
              "    </tr>\n",
              "  </thead>\n",
              "  <tbody>\n",
              "    <tr>\n",
              "      <th>0</th>\n",
              "      <td>3</td>\n",
              "      <td>Thu Oct 28 2021 01:42:00 GMT+0000 (UTC)</td>\n",
              "      <td>delta variant covid19 appear loosen firm choke...</td>\n",
              "      <td>dr jalal baig covid case drop us delta wave over</td>\n",
              "      <td>https://www.nbcnews.com/think/opinion/covid-ca...</td>\n",
              "      <td>0</td>\n",
              "    </tr>\n",
              "    <tr>\n",
              "      <th>1</th>\n",
              "      <td>6</td>\n",
              "      <td>Wed Oct 27 2021 12:03:00 GMT+0000 (UTC)</td>\n",
              "      <td>washington democrat plan tax billionair excit ...</td>\n",
              "      <td>billionair tax face constitut polit hurdl</td>\n",
              "      <td>https://www.nbcnews.com/politics/politics-news...</td>\n",
              "      <td>0</td>\n",
              "    </tr>\n",
              "    <tr>\n",
              "      <th>2</th>\n",
              "      <td>8</td>\n",
              "      <td>Wed Oct 27 2021 03:31:00 GMT+0000 (UTC)</td>\n",
              "      <td>men kyle rittenhous shot protest polic brutal ...</td>\n",
              "      <td>men shot rittenhous cant call victim trial rio...</td>\n",
              "      <td>https://www.nbcnews.com/news/us-news/men-shot-...</td>\n",
              "      <td>0</td>\n",
              "    </tr>\n",
              "    <tr>\n",
              "      <th>3</th>\n",
              "      <td>14</td>\n",
              "      <td>Thu Oct 28 2021 00:18:34 GMT+0000 (UTC)</td>\n",
              "      <td>nearli 500000 home busi new england electr wed...</td>\n",
              "      <td>noreast restor power new england day strong wind</td>\n",
              "      <td>https://www.nbcnews.com/news/weather/easter-30...</td>\n",
              "      <td>0</td>\n",
              "    </tr>\n",
              "    <tr>\n",
              "      <th>4</th>\n",
              "      <td>15</td>\n",
              "      <td>Wed Oct 27 2021 22:29:35 GMT+0000 (UTC)</td>\n",
              "      <td>late 2017 facebook final stage prepar major ch...</td>\n",
              "      <td>emoji reaction cute addit facebook headach</td>\n",
              "      <td>https://www.nbcnews.com/tech/tech-news/emoji-r...</td>\n",
              "      <td>0</td>\n",
              "    </tr>\n",
              "  </tbody>\n",
              "</table>\n",
              "</div>"
            ],
            "text/plain": [
              "   Unnamed: 0  ... Source Code\n",
              "0           3  ...           0\n",
              "1           6  ...           0\n",
              "2           8  ...           0\n",
              "3          14  ...           0\n",
              "4          15  ...           0\n",
              "\n",
              "[5 rows x 6 columns]"
            ]
          },
          "metadata": {},
          "execution_count": 57
        }
      ]
    },
    {
      "cell_type": "code",
      "metadata": {
        "id": "RCqDxal-J_zo"
      },
      "source": [
        "#merge dfs and remove anything with a null title\n",
        "frames = [nbc, bbc, fox]\n",
        "df = pd.concat(frames)\n",
        "df = df.dropna(subset = ['Article Title'])"
      ],
      "execution_count": null,
      "outputs": []
    },
    {
      "cell_type": "code",
      "metadata": {
        "id": "EEI9YiAEKCkJ"
      },
      "source": [
        "df = df.sample(frac=1).reset_index(drop=True)"
      ],
      "execution_count": null,
      "outputs": []
    },
    {
      "cell_type": "code",
      "metadata": {
        "colab": {
          "base_uri": "https://localhost:8080/"
        },
        "id": "zmnUEx58KEgc",
        "outputId": "81ee6e7f-864d-4e82-96fc-0c263121af34"
      },
      "source": [
        "#Separate categories (Source Code) from data\n",
        "y = df['Source Code']\n",
        "x = df.drop(columns = ['Source Code'])\n",
        "y.value_counts()"
      ],
      "execution_count": null,
      "outputs": [
        {
          "output_type": "execute_result",
          "data": {
            "text/plain": [
              "2    1721\n",
              "1    1721\n",
              "0    1663\n",
              "Name: Source Code, dtype: int64"
            ]
          },
          "metadata": {},
          "execution_count": 60
        }
      ]
    },
    {
      "cell_type": "code",
      "metadata": {
        "id": "xVSmi7i6KGbr"
      },
      "source": [
        "X_train, X_test, y_train, y_test = train_test_split(x, y, test_size=0.2, random_state=42)"
      ],
      "execution_count": null,
      "outputs": []
    },
    {
      "cell_type": "code",
      "metadata": {
        "id": "D94klRLbKIkB"
      },
      "source": [
        "# Dictionary with all unique words and their count:\n",
        "word_freq = dict()\n",
        "for row in X_train['Article Title']:\n",
        "    for word in row.split():\n",
        "        if word not in word_freq:\n",
        "            word_freq[word] = 0"
      ],
      "execution_count": null,
      "outputs": []
    },
    {
      "cell_type": "code",
      "metadata": {
        "id": "Iry3h6AuKLwV"
      },
      "source": [
        "#count values\n",
        "for row in X_train['Article Title']:\n",
        "    for word in row.split():\n",
        "        word_freq[word] = word_freq[word] + 1\n",
        "for row in X_test['Article Title']:\n",
        "    for word in row.split():\n",
        "        if word in word_freq:\n",
        "            word_freq[word] = word_freq[word] + 1"
      ],
      "execution_count": null,
      "outputs": []
    },
    {
      "cell_type": "code",
      "metadata": {
        "id": "TbxHp6HFKOcX"
      },
      "source": [
        "def feature_vector_func(sentence):\n",
        "    feature_vector = {x:0 for x in word_freq} # Put 0-s instead of counting every unique word\n",
        "    word_list = sentence.split()\n",
        "    for word in feature_vector:\n",
        "        if word in word_list:\n",
        "            feature_vector[word] = feature_vector[word] + 1\n",
        "        else:\n",
        "            feature_vector[word] = feature_vector[word]\n",
        "    return(feature_vector)"
      ],
      "execution_count": null,
      "outputs": []
    },
    {
      "cell_type": "code",
      "metadata": {
        "colab": {
          "base_uri": "https://localhost:8080/"
        },
        "id": "fqMa1bmGKPwk",
        "outputId": "2ad74e0d-50f8-4f65-8f88-9d3a0d681c51"
      },
      "source": [
        "X_train['feature_vector_dict'] = X_train['Article Title'].apply(lambda x: feature_vector_func(x))"
      ],
      "execution_count": null,
      "outputs": [
        {
          "output_type": "stream",
          "name": "stderr",
          "text": [
            "/usr/local/lib/python3.7/dist-packages/ipykernel_launcher.py:1: SettingWithCopyWarning: \n",
            "A value is trying to be set on a copy of a slice from a DataFrame.\n",
            "Try using .loc[row_indexer,col_indexer] = value instead\n",
            "\n",
            "See the caveats in the documentation: https://pandas.pydata.org/pandas-docs/stable/user_guide/indexing.html#returning-a-view-versus-a-copy\n",
            "  \"\"\"Entry point for launching an IPython kernel.\n"
          ]
        }
      ]
    },
    {
      "cell_type": "code",
      "metadata": {
        "colab": {
          "base_uri": "https://localhost:8080/",
          "height": 729
        },
        "id": "aKnkT4jzKRiL",
        "outputId": "7b691110-d3da-4e01-d41d-ea1e73b2d54c"
      },
      "source": [
        "X_train.head()"
      ],
      "execution_count": null,
      "outputs": [
        {
          "output_type": "execute_result",
          "data": {
            "text/html": [
              "<div>\n",
              "<style scoped>\n",
              "    .dataframe tbody tr th:only-of-type {\n",
              "        vertical-align: middle;\n",
              "    }\n",
              "\n",
              "    .dataframe tbody tr th {\n",
              "        vertical-align: top;\n",
              "    }\n",
              "\n",
              "    .dataframe thead th {\n",
              "        text-align: right;\n",
              "    }\n",
              "</style>\n",
              "<table border=\"1\" class=\"dataframe\">\n",
              "  <thead>\n",
              "    <tr style=\"text-align: right;\">\n",
              "      <th></th>\n",
              "      <th>Unnamed: 0</th>\n",
              "      <th>Article Date</th>\n",
              "      <th>Article Text</th>\n",
              "      <th>Article Title</th>\n",
              "      <th>Article URL</th>\n",
              "      <th>feature_vector_dict</th>\n",
              "    </tr>\n",
              "  </thead>\n",
              "  <tbody>\n",
              "    <tr>\n",
              "      <th>4160</th>\n",
              "      <td>1503</td>\n",
              "      <td>2019-02-08T16:24:24.000Z</td>\n",
              "      <td>just hour temporari stay expir midnight suprem...</td>\n",
              "      <td>rule mean roe v wade</td>\n",
              "      <td>https://www.bbc.co.uk/news/world-us-canada-471...</td>\n",
              "      <td>{'rule': 1, 'mean': 1, 'roe': 1, 'v': 1, 'wade...</td>\n",
              "    </tr>\n",
              "    <tr>\n",
              "      <th>4086</th>\n",
              "      <td>2376</td>\n",
              "      <td>Wed Sep 29 2021 22:32:00 GMT+0000 (UTC)</td>\n",
              "      <td>year stayathom order remot worker maintain upg...</td>\n",
              "      <td>7 ergonom offic chair work home 2021</td>\n",
              "      <td>https://www.nbcnews.com/select/shopping/best-e...</td>\n",
              "      <td>{'rule': 0, 'mean': 0, 'roe': 0, 'v': 0, 'wade...</td>\n",
              "    </tr>\n",
              "    <tr>\n",
              "      <th>944</th>\n",
              "      <td>930</td>\n",
              "      <td>2015-03-09T01:26:53.000Z</td>\n",
              "      <td>nigerian truck driver surviv journey boko hara...</td>\n",
              "      <td>boko haram crisi nigerian trucker risk attack</td>\n",
              "      <td>https://www.bbc.co.uk/news/world-africa-31533391</td>\n",
              "      <td>{'rule': 0, 'mean': 0, 'roe': 0, 'v': 0, 'wade...</td>\n",
              "    </tr>\n",
              "    <tr>\n",
              "      <th>2351</th>\n",
              "      <td>4195</td>\n",
              "      <td>Tue Aug 03 2021 20:58:00 GMT+0000 (UTC)</td>\n",
              "      <td>washington presid joe biden call new york gov ...</td>\n",
              "      <td>biden call gov cuomo resign investig find sexu...</td>\n",
              "      <td>https://www.nbcnews.com/politics/politics-news...</td>\n",
              "      <td>{'rule': 0, 'mean': 0, 'roe': 0, 'v': 0, 'wade...</td>\n",
              "    </tr>\n",
              "    <tr>\n",
              "      <th>3425</th>\n",
              "      <td>10</td>\n",
              "      <td>10/26/21 15:32</td>\n",
              "      <td>student loudoun counti virginia stage walkout ...</td>\n",
              "      <td>dozen loudoun counti student stage walkout sex...</td>\n",
              "      <td>https://www.foxnews.com/us/loudoun-county-stud...</td>\n",
              "      <td>{'rule': 0, 'mean': 0, 'roe': 0, 'v': 0, 'wade...</td>\n",
              "    </tr>\n",
              "  </tbody>\n",
              "</table>\n",
              "</div>"
            ],
            "text/plain": [
              "      Unnamed: 0  ...                                feature_vector_dict\n",
              "4160        1503  ...  {'rule': 1, 'mean': 1, 'roe': 1, 'v': 1, 'wade...\n",
              "4086        2376  ...  {'rule': 0, 'mean': 0, 'roe': 0, 'v': 0, 'wade...\n",
              "944          930  ...  {'rule': 0, 'mean': 0, 'roe': 0, 'v': 0, 'wade...\n",
              "2351        4195  ...  {'rule': 0, 'mean': 0, 'roe': 0, 'v': 0, 'wade...\n",
              "3425          10  ...  {'rule': 0, 'mean': 0, 'roe': 0, 'v': 0, 'wade...\n",
              "\n",
              "[5 rows x 6 columns]"
            ]
          },
          "metadata": {},
          "execution_count": 66
        }
      ]
    },
    {
      "cell_type": "code",
      "metadata": {
        "colab": {
          "base_uri": "https://localhost:8080/"
        },
        "id": "YNmVVK_KKToD",
        "outputId": "03d1870c-5e8f-4677-a860-dc6d0bed5ac7"
      },
      "source": [
        "X_test['feature_vector_dict'] = X_test['Article Title'].apply(lambda x: feature_vector_func(x))"
      ],
      "execution_count": null,
      "outputs": [
        {
          "output_type": "stream",
          "name": "stderr",
          "text": [
            "/usr/local/lib/python3.7/dist-packages/ipykernel_launcher.py:1: SettingWithCopyWarning: \n",
            "A value is trying to be set on a copy of a slice from a DataFrame.\n",
            "Try using .loc[row_indexer,col_indexer] = value instead\n",
            "\n",
            "See the caveats in the documentation: https://pandas.pydata.org/pandas-docs/stable/user_guide/indexing.html#returning-a-view-versus-a-copy\n",
            "  \"\"\"Entry point for launching an IPython kernel.\n"
          ]
        }
      ]
    },
    {
      "cell_type": "code",
      "metadata": {
        "colab": {
          "base_uri": "https://localhost:8080/",
          "height": 763
        },
        "id": "vnZecCGUKWBt",
        "outputId": "786b4e51-f1af-4e2f-83df-93c798ee01ba"
      },
      "source": [
        "X_test.head()"
      ],
      "execution_count": null,
      "outputs": [
        {
          "output_type": "execute_result",
          "data": {
            "text/html": [
              "<div>\n",
              "<style scoped>\n",
              "    .dataframe tbody tr th:only-of-type {\n",
              "        vertical-align: middle;\n",
              "    }\n",
              "\n",
              "    .dataframe tbody tr th {\n",
              "        vertical-align: top;\n",
              "    }\n",
              "\n",
              "    .dataframe thead th {\n",
              "        text-align: right;\n",
              "    }\n",
              "</style>\n",
              "<table border=\"1\" class=\"dataframe\">\n",
              "  <thead>\n",
              "    <tr style=\"text-align: right;\">\n",
              "      <th></th>\n",
              "      <th>Unnamed: 0</th>\n",
              "      <th>Article Date</th>\n",
              "      <th>Article Text</th>\n",
              "      <th>Article Title</th>\n",
              "      <th>Article URL</th>\n",
              "      <th>feature_vector_dict</th>\n",
              "    </tr>\n",
              "  </thead>\n",
              "  <tbody>\n",
              "    <tr>\n",
              "      <th>4139</th>\n",
              "      <td>1644</td>\n",
              "      <td>2020-01-29T01:19:29.000Z</td>\n",
              "      <td>time atmospher east room white hous parti news...</td>\n",
              "      <td>trump middl east peac plan deal centuri huge g...</td>\n",
              "      <td>https://www.bbc.co.uk/news/world-middle-east-5...</td>\n",
              "      <td>{'rule': 0, 'mean': 0, 'roe': 0, 'v': 0, 'wade...</td>\n",
              "    </tr>\n",
              "    <tr>\n",
              "      <th>586</th>\n",
              "      <td>1957</td>\n",
              "      <td>2017-10-10T23:00:23.000Z</td>\n",
              "      <td>year awar uk unrecycl cup mountain hard buy ta...</td>\n",
              "      <td>solut dispos coffe cup problem</td>\n",
              "      <td>http://www.bbc.co.uk/news/business-40951041</td>\n",
              "      <td>{'rule': 0, 'mean': 0, 'roe': 0, 'v': 0, 'wade...</td>\n",
              "    </tr>\n",
              "    <tr>\n",
              "      <th>553</th>\n",
              "      <td>1744</td>\n",
              "      <td>10/25/21 6:48</td>\n",
              "      <td>bodi miss texa man recov sunday wyom grand tet...</td>\n",
              "      <td>bodi miss texa man recov grand teton nation park</td>\n",
              "      <td>http://www.foxnews.com/us/body-of-missing-texa...</td>\n",
              "      <td>{'rule': 0, 'mean': 0, 'roe': 0, 'v': 0, 'wade...</td>\n",
              "    </tr>\n",
              "    <tr>\n",
              "      <th>227</th>\n",
              "      <td>2471</td>\n",
              "      <td>Wed Oct 06 2021 20:46:00 GMT+0000 (UTC)</td>\n",
              "      <td>sleep bodi regener particular it skin get chan...</td>\n",
              "      <td>sheet pillowcas worth consid 2021</td>\n",
              "      <td>https://www.nbcnews.com/shopping/bedroom/silk-...</td>\n",
              "      <td>{'rule': 0, 'mean': 0, 'roe': 0, 'v': 0, 'wade...</td>\n",
              "    </tr>\n",
              "    <tr>\n",
              "      <th>1321</th>\n",
              "      <td>226</td>\n",
              "      <td>Thu Oct 21 2021 18:28:00 GMT+0000 (UTC)</td>\n",
              "      <td>respond grow controversi invest practic feder ...</td>\n",
              "      <td>fed offici ban own individu stock jerom powel ...</td>\n",
              "      <td>https://www.nbcnews.com/business/business-news...</td>\n",
              "      <td>{'rule': 0, 'mean': 0, 'roe': 0, 'v': 0, 'wade...</td>\n",
              "    </tr>\n",
              "  </tbody>\n",
              "</table>\n",
              "</div>"
            ],
            "text/plain": [
              "      Unnamed: 0  ...                                feature_vector_dict\n",
              "4139        1644  ...  {'rule': 0, 'mean': 0, 'roe': 0, 'v': 0, 'wade...\n",
              "586         1957  ...  {'rule': 0, 'mean': 0, 'roe': 0, 'v': 0, 'wade...\n",
              "553         1744  ...  {'rule': 0, 'mean': 0, 'roe': 0, 'v': 0, 'wade...\n",
              "227         2471  ...  {'rule': 0, 'mean': 0, 'roe': 0, 'v': 0, 'wade...\n",
              "1321         226  ...  {'rule': 0, 'mean': 0, 'roe': 0, 'v': 0, 'wade...\n",
              "\n",
              "[5 rows x 6 columns]"
            ]
          },
          "metadata": {},
          "execution_count": 68
        }
      ]
    },
    {
      "cell_type": "code",
      "metadata": {
        "id": "Mpeno6WXNeCT"
      },
      "source": [
        "#Function that converts the dict \"feature_vector\" into an array:\n",
        "def dict_to_array(vector):\n",
        "    data = list(vector.values())\n",
        "    an_array = np.array(data)\n",
        "    return(an_array)"
      ],
      "execution_count": null,
      "outputs": []
    },
    {
      "cell_type": "code",
      "metadata": {
        "colab": {
          "base_uri": "https://localhost:8080/"
        },
        "id": "axwDz8vLOBJ6",
        "outputId": "e002b6db-d4e4-46a1-bd57-94baae434554"
      },
      "source": [
        "X_train['feature_vector_array'] = X_train['feature_vector_dict'].apply(lambda x: dict_to_array(x))"
      ],
      "execution_count": null,
      "outputs": [
        {
          "output_type": "stream",
          "name": "stderr",
          "text": [
            "/usr/local/lib/python3.7/dist-packages/ipykernel_launcher.py:1: SettingWithCopyWarning: \n",
            "A value is trying to be set on a copy of a slice from a DataFrame.\n",
            "Try using .loc[row_indexer,col_indexer] = value instead\n",
            "\n",
            "See the caveats in the documentation: https://pandas.pydata.org/pandas-docs/stable/user_guide/indexing.html#returning-a-view-versus-a-copy\n",
            "  \"\"\"Entry point for launching an IPython kernel.\n"
          ]
        }
      ]
    },
    {
      "cell_type": "code",
      "metadata": {
        "id": "XmkeISLnO9YF"
      },
      "source": [
        "import itertools\n",
        "from sklearn.preprocessing import StandardScaler\n",
        "scaler = StandardScaler()\n",
        "\n",
        "def standard(row):\n",
        "    standardized_array = scaler.fit_transform(np.array(row).reshape(-1,1))\n",
        "    return(standardized_array)"
      ],
      "execution_count": null,
      "outputs": []
    },
    {
      "cell_type": "code",
      "metadata": {
        "colab": {
          "base_uri": "https://localhost:8080/"
        },
        "id": "M2mUrAYpPCBR",
        "outputId": "714a493a-55ce-4b7f-ce06-3e5a6cc60baa"
      },
      "source": [
        "X_train['standard_array'] = X_train['feature_vector_array'].apply(lambda x: standard(x))"
      ],
      "execution_count": null,
      "outputs": [
        {
          "output_type": "stream",
          "name": "stderr",
          "text": [
            "/usr/local/lib/python3.7/dist-packages/ipykernel_launcher.py:1: SettingWithCopyWarning: \n",
            "A value is trying to be set on a copy of a slice from a DataFrame.\n",
            "Try using .loc[row_indexer,col_indexer] = value instead\n",
            "\n",
            "See the caveats in the documentation: https://pandas.pydata.org/pandas-docs/stable/user_guide/indexing.html#returning-a-view-versus-a-copy\n",
            "  \"\"\"Entry point for launching an IPython kernel.\n"
          ]
        }
      ]
    },
    {
      "cell_type": "code",
      "metadata": {
        "colab": {
          "base_uri": "https://localhost:8080/",
          "height": 729
        },
        "id": "L99WO5iXP1D6",
        "outputId": "4ea808cd-6b42-4fb8-c2ba-b668545be4f7"
      },
      "source": [
        "X_train.head()"
      ],
      "execution_count": null,
      "outputs": [
        {
          "output_type": "execute_result",
          "data": {
            "text/html": [
              "<div>\n",
              "<style scoped>\n",
              "    .dataframe tbody tr th:only-of-type {\n",
              "        vertical-align: middle;\n",
              "    }\n",
              "\n",
              "    .dataframe tbody tr th {\n",
              "        vertical-align: top;\n",
              "    }\n",
              "\n",
              "    .dataframe thead th {\n",
              "        text-align: right;\n",
              "    }\n",
              "</style>\n",
              "<table border=\"1\" class=\"dataframe\">\n",
              "  <thead>\n",
              "    <tr style=\"text-align: right;\">\n",
              "      <th></th>\n",
              "      <th>Unnamed: 0</th>\n",
              "      <th>Article Date</th>\n",
              "      <th>Article Text</th>\n",
              "      <th>Article Title</th>\n",
              "      <th>Article URL</th>\n",
              "      <th>feature_vector_dict</th>\n",
              "      <th>feature_vector_array</th>\n",
              "      <th>standard_array</th>\n",
              "    </tr>\n",
              "  </thead>\n",
              "  <tbody>\n",
              "    <tr>\n",
              "      <th>4160</th>\n",
              "      <td>1503</td>\n",
              "      <td>2019-02-08T16:24:24.000Z</td>\n",
              "      <td>just hour temporari stay expir midnight suprem...</td>\n",
              "      <td>rule mean roe v wade</td>\n",
              "      <td>https://www.bbc.co.uk/news/world-us-canada-471...</td>\n",
              "      <td>{'rule': 1, 'mean': 1, 'roe': 1, 'v': 1, 'wade...</td>\n",
              "      <td>[1, 1, 1, 1, 1, 0, 0, 0, 0, 0, 0, 0, 0, 0, 0, ...</td>\n",
              "      <td>[[37.5259909929105], [37.5259909929105], [37.5...</td>\n",
              "    </tr>\n",
              "    <tr>\n",
              "      <th>4086</th>\n",
              "      <td>2376</td>\n",
              "      <td>Wed Sep 29 2021 22:32:00 GMT+0000 (UTC)</td>\n",
              "      <td>year stayathom order remot worker maintain upg...</td>\n",
              "      <td>7 ergonom offic chair work home 2021</td>\n",
              "      <td>https://www.nbcnews.com/select/shopping/best-e...</td>\n",
              "      <td>{'rule': 0, 'mean': 0, 'roe': 0, 'v': 0, 'wade...</td>\n",
              "      <td>[0, 0, 0, 0, 0, 1, 1, 1, 1, 1, 1, 1, 0, 0, 0, ...</td>\n",
              "      <td>[[-0.03153505097921043], [-0.03153505097921043...</td>\n",
              "    </tr>\n",
              "    <tr>\n",
              "      <th>944</th>\n",
              "      <td>930</td>\n",
              "      <td>2015-03-09T01:26:53.000Z</td>\n",
              "      <td>nigerian truck driver surviv journey boko hara...</td>\n",
              "      <td>boko haram crisi nigerian trucker risk attack</td>\n",
              "      <td>https://www.bbc.co.uk/news/world-africa-31533391</td>\n",
              "      <td>{'rule': 0, 'mean': 0, 'roe': 0, 'v': 0, 'wade...</td>\n",
              "      <td>[0, 0, 0, 0, 0, 0, 0, 0, 0, 0, 0, 0, 1, 1, 1, ...</td>\n",
              "      <td>[[-0.03153505097921043], [-0.03153505097921043...</td>\n",
              "    </tr>\n",
              "    <tr>\n",
              "      <th>2351</th>\n",
              "      <td>4195</td>\n",
              "      <td>Tue Aug 03 2021 20:58:00 GMT+0000 (UTC)</td>\n",
              "      <td>washington presid joe biden call new york gov ...</td>\n",
              "      <td>biden call gov cuomo resign investig find sexu...</td>\n",
              "      <td>https://www.nbcnews.com/politics/politics-news...</td>\n",
              "      <td>{'rule': 0, 'mean': 0, 'roe': 0, 'v': 0, 'wade...</td>\n",
              "      <td>[0, 0, 0, 0, 0, 0, 0, 0, 0, 0, 0, 0, 0, 0, 0, ...</td>\n",
              "      <td>[[-0.03769962971605538], [-0.03769962971605538...</td>\n",
              "    </tr>\n",
              "    <tr>\n",
              "      <th>3425</th>\n",
              "      <td>10</td>\n",
              "      <td>10/26/21 15:32</td>\n",
              "      <td>student loudoun counti virginia stage walkout ...</td>\n",
              "      <td>dozen loudoun counti student stage walkout sex...</td>\n",
              "      <td>https://www.foxnews.com/us/loudoun-county-stud...</td>\n",
              "      <td>{'rule': 0, 'mean': 0, 'roe': 0, 'v': 0, 'wade...</td>\n",
              "      <td>[0, 0, 0, 0, 0, 0, 0, 0, 0, 0, 0, 0, 0, 0, 0, ...</td>\n",
              "      <td>[[-0.03954251533266946], [-0.03954251533266946...</td>\n",
              "    </tr>\n",
              "  </tbody>\n",
              "</table>\n",
              "</div>"
            ],
            "text/plain": [
              "      Unnamed: 0  ...                                     standard_array\n",
              "4160        1503  ...  [[37.5259909929105], [37.5259909929105], [37.5...\n",
              "4086        2376  ...  [[-0.03153505097921043], [-0.03153505097921043...\n",
              "944          930  ...  [[-0.03153505097921043], [-0.03153505097921043...\n",
              "2351        4195  ...  [[-0.03769962971605538], [-0.03769962971605538...\n",
              "3425          10  ...  [[-0.03954251533266946], [-0.03954251533266946...\n",
              "\n",
              "[5 rows x 8 columns]"
            ]
          },
          "metadata": {},
          "execution_count": 73
        }
      ]
    },
    {
      "cell_type": "code",
      "metadata": {
        "colab": {
          "base_uri": "https://localhost:8080/"
        },
        "id": "5V_bbMgzP2zu",
        "outputId": "156bfdd6-eb5a-43d6-b832-3e009e3403c2"
      },
      "source": [
        "X_test['feature_vector_array'] = X_test['feature_vector_dict'].apply(lambda x: dict_to_array(x))\n",
        "X_test['standard_array'] = X_test['feature_vector_array'].apply(lambda x: standard(x))"
      ],
      "execution_count": null,
      "outputs": [
        {
          "output_type": "stream",
          "name": "stderr",
          "text": [
            "/usr/local/lib/python3.7/dist-packages/ipykernel_launcher.py:1: SettingWithCopyWarning: \n",
            "A value is trying to be set on a copy of a slice from a DataFrame.\n",
            "Try using .loc[row_indexer,col_indexer] = value instead\n",
            "\n",
            "See the caveats in the documentation: https://pandas.pydata.org/pandas-docs/stable/user_guide/indexing.html#returning-a-view-versus-a-copy\n",
            "  \"\"\"Entry point for launching an IPython kernel.\n",
            "/usr/local/lib/python3.7/dist-packages/ipykernel_launcher.py:2: SettingWithCopyWarning: \n",
            "A value is trying to be set on a copy of a slice from a DataFrame.\n",
            "Try using .loc[row_indexer,col_indexer] = value instead\n",
            "\n",
            "See the caveats in the documentation: https://pandas.pydata.org/pandas-docs/stable/user_guide/indexing.html#returning-a-view-versus-a-copy\n",
            "  \n"
          ]
        }
      ]
    },
    {
      "cell_type": "code",
      "metadata": {
        "id": "S2LE0P9QQVP3"
      },
      "source": [
        "# Rearranging the data for the Naive Bayes prediction:\n",
        "def array_of_arrays(row):\n",
        "    list_standard = []\n",
        "    for i in range(0, len(row)):\n",
        "        list_standard.append((row[i][0]))\n",
        "    return (np.array(list_standard))"
      ],
      "execution_count": null,
      "outputs": []
    },
    {
      "cell_type": "code",
      "metadata": {
        "colab": {
          "base_uri": "https://localhost:8080/"
        },
        "id": "M2yaQn-sQZX3",
        "outputId": "e86e4b55-7ade-49f6-eba3-2db73592c729"
      },
      "source": [
        "X_train['standard_array_clean'] = X_train['standard_array'].apply(lambda x: array_of_arrays(x))\n",
        "X_test['standard_array_clean'] = X_test['standard_array'].apply(lambda x: array_of_arrays(x))"
      ],
      "execution_count": null,
      "outputs": [
        {
          "output_type": "stream",
          "name": "stderr",
          "text": [
            "/usr/local/lib/python3.7/dist-packages/ipykernel_launcher.py:1: SettingWithCopyWarning: \n",
            "A value is trying to be set on a copy of a slice from a DataFrame.\n",
            "Try using .loc[row_indexer,col_indexer] = value instead\n",
            "\n",
            "See the caveats in the documentation: https://pandas.pydata.org/pandas-docs/stable/user_guide/indexing.html#returning-a-view-versus-a-copy\n",
            "  \"\"\"Entry point for launching an IPython kernel.\n",
            "/usr/local/lib/python3.7/dist-packages/ipykernel_launcher.py:2: SettingWithCopyWarning: \n",
            "A value is trying to be set on a copy of a slice from a DataFrame.\n",
            "Try using .loc[row_indexer,col_indexer] = value instead\n",
            "\n",
            "See the caveats in the documentation: https://pandas.pydata.org/pandas-docs/stable/user_guide/indexing.html#returning-a-view-versus-a-copy\n",
            "  \n"
          ]
        }
      ]
    },
    {
      "cell_type": "code",
      "metadata": {
        "id": "4QHlLmgcZjzR"
      },
      "source": [
        "train_X = X_train['standard_array_clean']\n",
        "test_X = X_test['standard_array_clean']"
      ],
      "execution_count": null,
      "outputs": []
    },
    {
      "cell_type": "code",
      "metadata": {
        "id": "6Jw_Mx-iQeQb"
      },
      "source": [
        "train_X = pd.DataFrame(train_X.to_list()).to_numpy()\n",
        "test_X = pd.DataFrame(test_X.to_list()).to_numpy()"
      ],
      "execution_count": null,
      "outputs": []
    },
    {
      "cell_type": "code",
      "metadata": {
        "colab": {
          "base_uri": "https://localhost:8080/"
        },
        "id": "f_nFDSLBRMtz",
        "outputId": "b73704f7-1fc0-4eff-f345-76275958c5dd"
      },
      "source": [
        "\n",
        "#Check that there is no \"Nan\" values:\n",
        "\n",
        "for array in test_X:\n",
        "    array_sum = np.sum(array)\n",
        "    array_has_nan = np.isnan(array_sum)\n",
        "print(array_has_nan)"
      ],
      "execution_count": null,
      "outputs": [
        {
          "output_type": "stream",
          "name": "stdout",
          "text": [
            "False\n"
          ]
        }
      ]
    },
    {
      "cell_type": "code",
      "metadata": {
        "id": "j6IFdcCzRzB4"
      },
      "source": [
        "n = train_X.shape[0] #number of rows\n",
        "d = train_X.shape[1] #number of unique words = features in feature vector\n",
        "K = 3 #number of classes - label 1 or label 0\n",
        "\n",
        "psis = np.zeros([K,d])\n",
        "phis = np.zeros([K])"
      ],
      "execution_count": null,
      "outputs": []
    },
    {
      "cell_type": "code",
      "metadata": {
        "id": "W-CgyHAtSDEl"
      },
      "source": [
        "for k in range(K):\n",
        "    X_k = train_X[y_train == k]\n",
        "    phis[k] = X_k.shape[0] / float(n)\n",
        "    psis[k] = np.mean(X_k, axis=0)"
      ],
      "execution_count": null,
      "outputs": []
    },
    {
      "cell_type": "code",
      "metadata": {
        "id": "jbSKsbYvSMWT"
      },
      "source": [
        "# implement this in numpy\n",
        "def nb_predictions(x, psis, phis):\n",
        "    # adjust shapes\n",
        "    n , d = x.shape\n",
        "    x = np.reshape(x, (1,n,d))\n",
        "    psis = np.reshape(psis, (K, 1, d))\n",
        "    \n",
        "    psis = psis.clip(1e-14, 1-1e-14) \n",
        "    \n",
        "    # compute log-probabilities\n",
        "    logpy = np.log(phis).reshape(K,1)\n",
        "    logpxy = x * np.log(psis) + (1-x) * np.log(1-psis)\n",
        "    logpyx = logpxy.sum(axis=2) + logpy\n",
        "\n",
        "    return logpyx.argmax(axis=0).flatten(), logpyx.reshape([K,n])"
      ],
      "execution_count": null,
      "outputs": []
    },
    {
      "cell_type": "code",
      "metadata": {
        "id": "xSLZOW2nSPLA"
      },
      "source": [
        "predicted_train, logpyx = nb_predictions(train_X, psis, phis)"
      ],
      "execution_count": null,
      "outputs": []
    },
    {
      "cell_type": "code",
      "metadata": {
        "colab": {
          "base_uri": "https://localhost:8080/"
        },
        "id": "OSWbOBdHSSDj",
        "outputId": "e63536d1-9d31-403c-9d9b-31a9376945a4"
      },
      "source": [
        "(predicted_train == y_train).mean()"
      ],
      "execution_count": null,
      "outputs": [
        {
          "output_type": "execute_result",
          "data": {
            "text/plain": [
              "0.8599412340842312"
            ]
          },
          "metadata": {},
          "execution_count": 84
        }
      ]
    },
    {
      "cell_type": "code",
      "metadata": {
        "id": "E7Jn3b4KSWE3"
      },
      "source": [
        "predicted_test, logpyx_test = nb_predictions(test_X, psis, phis)"
      ],
      "execution_count": null,
      "outputs": []
    },
    {
      "cell_type": "code",
      "metadata": {
        "colab": {
          "base_uri": "https://localhost:8080/"
        },
        "id": "zSzqNX1oSYR8",
        "outputId": "3e0dd740-3dc3-4027-b619-c395c5fa7119"
      },
      "source": [
        "(predicted_test == y_test).mean()"
      ],
      "execution_count": null,
      "outputs": [
        {
          "output_type": "execute_result",
          "data": {
            "text/plain": [
              "0.6748285994123409"
            ]
          },
          "metadata": {},
          "execution_count": 86
        }
      ]
    },
    {
      "cell_type": "code",
      "metadata": {
        "id": "GXVxNmheSaY1"
      },
      "source": [
        "actual = y_test\n",
        "predictions = predicted_test"
      ],
      "execution_count": null,
      "outputs": []
    },
    {
      "cell_type": "code",
      "metadata": {
        "colab": {
          "base_uri": "https://localhost:8080/",
          "height": 405
        },
        "id": "e8SWetPuScQQ",
        "outputId": "d05ea9f5-84a2-438b-ced4-e9125cc013b9"
      },
      "source": [
        "\n",
        "# get actual and create heatmap \n",
        "confusion_matrix = pd.crosstab(actual, predictions , rownames=['Actual'], colnames=['Predicted'], normalize=True)\n",
        "plt.subplots(figsize=(8, 6))\n",
        "sns.heatmap(confusion_matrix, annot=True)"
      ],
      "execution_count": null,
      "outputs": [
        {
          "output_type": "execute_result",
          "data": {
            "text/plain": [
              "<matplotlib.axes._subplots.AxesSubplot at 0x7f8fa521d090>"
            ]
          },
          "metadata": {},
          "execution_count": 88
        },
        {
          "output_type": "display_data",
          "data": {
            "image/png": "[encoded data removed]",
            "text/plain": [
              "<Figure size 576x432 with 2 Axes>"
            ]
          },
          "metadata": {
            "needs_background": "light"
          }
        }
      ]
    },
    {
      "cell_type": "code",
      "metadata": {
        "id": "gYHxNdzpNLNF"
      },
      "source": [
        "#RIDGE\n",
        "unique_words_list = list(word_freq.keys())"
      ],
      "execution_count": null,
      "outputs": []
    },
    {
      "cell_type": "code",
      "metadata": {
        "id": "kn4a2cwbNLXn"
      },
      "source": [
        "train_X_feat_vect = pd.DataFrame(X_train['feature_vector_array'].to_list())\n",
        "train_X_feat_vect.columns = list(word_freq.keys())\n",
        "test_X_feat_vect = pd.DataFrame(X_test['feature_vector_array'].to_list())\n",
        "test_X_feat_vect.columns = list(word_freq.keys())"
      ],
      "execution_count": null,
      "outputs": []
    },
    {
      "cell_type": "code",
      "metadata": {
        "id": "sfcDa_UENLa5"
      },
      "source": [
        "model_ridge = LogisticRegressionCV(cv=10, penalty='l2', solver='liblinear').fit(train_X_feat_vect, y_train)"
      ],
      "execution_count": null,
      "outputs": []
    },
    {
      "cell_type": "code",
      "metadata": {
        "colab": {
          "base_uri": "https://localhost:8080/"
        },
        "id": "DQ12gA4XNLdD",
        "outputId": "b5bdc4a3-b725-49c0-f783-eae5e9c24730"
      },
      "source": [
        "predicted_ridge_test = model_ridge.predict(test_X_feat_vect)\n",
        "predicted_ridge_test"
      ],
      "execution_count": null,
      "outputs": [
        {
          "output_type": "execute_result",
          "data": {
            "text/plain": [
              "array([1, 1, 2, ..., 2, 2, 2])"
            ]
          },
          "metadata": {},
          "execution_count": 92
        }
      ]
    },
    {
      "cell_type": "code",
      "metadata": {
        "colab": {
          "base_uri": "https://localhost:8080/"
        },
        "id": "nW1gX2qqNLfa",
        "outputId": "9f0590bd-bb6d-4092-918c-93f2bfbaae2d"
      },
      "source": [
        "model_ridge.score(test_X_feat_vect, y_test)"
      ],
      "execution_count": null,
      "outputs": [
        {
          "output_type": "execute_result",
          "data": {
            "text/plain": [
              "0.7247796278158668"
            ]
          },
          "metadata": {},
          "execution_count": 93
        }
      ]
    },
    {
      "cell_type": "code",
      "metadata": {
        "colab": {
          "base_uri": "https://localhost:8080/",
          "height": 297
        },
        "id": "eVkRkVLCNLjY",
        "outputId": "c3447441-a825-4ec5-ccc1-651ce7504382"
      },
      "source": [
        "# get actual and create heatmap \n",
        "actual = y_test\n",
        "predictions_ridge = predicted_ridge_test\n",
        "confusion_matrix = pd.crosstab(actual, predictions_ridge , rownames=['Actual'], colnames=['Predicted'], normalize=True)\n",
        "plt.subplots(figsize=(6, 4))\n",
        "sns.heatmap(confusion_matrix, annot=True)"
      ],
      "execution_count": null,
      "outputs": [
        {
          "output_type": "execute_result",
          "data": {
            "text/plain": [
              "<matplotlib.axes._subplots.AxesSubplot at 0x7f8fdf3c2f90>"
            ]
          },
          "metadata": {},
          "execution_count": 94
        },
        {
          "output_type": "display_data",
          "data": {
            "image/png": "[encoded data removed]",
            "text/plain": [
              "<Figure size 432x288 with 2 Axes>"
            ]
          },
          "metadata": {
            "needs_background": "light"
          }
        }
      ]
    },
    {
      "cell_type": "code",
      "metadata": {
        "id": "KSSFon8xNc0b"
      },
      "source": [
        "model_ridge.coef_\n",
        "coeffs_ridge = list(np.argsort(model_ridge.coef_))"
      ],
      "execution_count": null,
      "outputs": []
    },
    {
      "cell_type": "code",
      "metadata": {
        "colab": {
          "base_uri": "https://localhost:8080/"
        },
        "id": "qFjjCtUfNc4M",
        "outputId": "fe5ac951-0410-4c46-8946-1a7ef793816e"
      },
      "source": [
        "\n",
        "# most important words:\n",
        "most_important = coeffs_ridge[0][::-1]\n",
        "for i in range(0,10):\n",
        "    print(unique_words_list[most_important[i]])"
      ],
      "execution_count": null,
      "outputs": [
        {
          "output_type": "stream",
          "name": "stdout",
          "text": [
            "us\n",
            "choos\n",
            "bipartisan\n",
            "best\n",
            "koala\n",
            "ransomwar\n",
            "tracker\n",
            "un\n",
            "7\n",
            "percent\n"
          ]
        }
      ]
    },
    {
      "cell_type": "code",
      "metadata": {
        "colab": {
          "base_uri": "https://localhost:8080/"
        },
        "id": "0AjOSdnkNc8Z",
        "outputId": "4417e44d-5538-4d64-b173-877ce1098766"
      },
      "source": [
        "least_important = coeffs_ridge[0]\n",
        "for i in range(0,10):\n",
        "    print(unique_words_list[least_important[i]])"
      ],
      "execution_count": null,
      "outputs": [
        {
          "output_type": "stream",
          "name": "stdout",
          "text": [
            "halloween\n",
            "scotland\n",
            "dem\n",
            "thing\n",
            "doe\n",
            "inaugur\n",
            "rust\n",
            "impeach\n",
            "jab\n",
            "mp\n"
          ]
        }
      ]
    },
    {
      "cell_type": "code",
      "metadata": {
        "id": "I1Hpvi_USh5f",
        "colab": {
          "base_uri": "https://localhost:8080/"
        },
        "outputId": "4f23b8a7-213e-4455-d838-3cef20d9b576"
      },
      "source": [
        "#LASSO\n",
        "model_lasso = LogisticRegressionCV(cv=10, penalty='l1', solver='liblinear').fit(train_X_feat_vect, y_train)"
      ],
      "execution_count": null,
      "outputs": [
        {
          "output_type": "stream",
          "name": "stderr",
          "text": [
            "/usr/local/lib/python3.7/dist-packages/sklearn/svm/_base.py:947: ConvergenceWarning: Liblinear failed to converge, increase the number of iterations.\n",
            "  \"the number of iterations.\", ConvergenceWarning)\n",
            "/usr/local/lib/python3.7/dist-packages/sklearn/svm/_base.py:947: ConvergenceWarning: Liblinear failed to converge, increase the number of iterations.\n",
            "  \"the number of iterations.\", ConvergenceWarning)\n",
            "/usr/local/lib/python3.7/dist-packages/sklearn/svm/_base.py:947: ConvergenceWarning: Liblinear failed to converge, increase the number of iterations.\n",
            "  \"the number of iterations.\", ConvergenceWarning)\n",
            "/usr/local/lib/python3.7/dist-packages/sklearn/svm/_base.py:947: ConvergenceWarning: Liblinear failed to converge, increase the number of iterations.\n",
            "  \"the number of iterations.\", ConvergenceWarning)\n",
            "/usr/local/lib/python3.7/dist-packages/sklearn/svm/_base.py:947: ConvergenceWarning: Liblinear failed to converge, increase the number of iterations.\n",
            "  \"the number of iterations.\", ConvergenceWarning)\n"
          ]
        }
      ]
    },
    {
      "cell_type": "code",
      "metadata": {
        "colab": {
          "base_uri": "https://localhost:8080/"
        },
        "id": "5dVEfYDLK5oL",
        "outputId": "7534e820-d894-42bf-f2f1-e4a9f23fa833"
      },
      "source": [
        "predict_lasso = model_lasso.predict(test_X_feat_vect)\n",
        "predict_lasso"
      ],
      "execution_count": null,
      "outputs": [
        {
          "output_type": "execute_result",
          "data": {
            "text/plain": [
              "array([1, 1, 2, ..., 0, 2, 2])"
            ]
          },
          "metadata": {},
          "execution_count": 99
        }
      ]
    },
    {
      "cell_type": "code",
      "metadata": {
        "colab": {
          "base_uri": "https://localhost:8080/"
        },
        "id": "6srm9ZxnK-Gs",
        "outputId": "2eee71d1-cbd0-417d-8a5c-a85cdcbcd767"
      },
      "source": [
        "model_lasso.score(test_X_feat_vect, y_test)"
      ],
      "execution_count": null,
      "outputs": [
        {
          "output_type": "execute_result",
          "data": {
            "text/plain": [
              "0.7061704211557297"
            ]
          },
          "metadata": {},
          "execution_count": 100
        }
      ]
    },
    {
      "cell_type": "code",
      "metadata": {
        "colab": {
          "base_uri": "https://localhost:8080/",
          "height": 297
        },
        "id": "Zur91tumK-SW",
        "outputId": "82108d21-6c11-46d9-a818-82ea43d41345"
      },
      "source": [
        "\n",
        "actual = y_test\n",
        "predictions_lasso = predict_lasso\n",
        "confusion_matrix = pd.crosstab(actual, predictions_lasso , rownames=['Actual'], colnames=['Predicted'], normalize=True)\n",
        "plt.subplots(figsize=(6, 4))\n",
        "sns.heatmap(confusion_matrix, annot=True)"
      ],
      "execution_count": null,
      "outputs": [
        {
          "output_type": "execute_result",
          "data": {
            "text/plain": [
              "<matplotlib.axes._subplots.AxesSubplot at 0x7f8fc63e66d0>"
            ]
          },
          "metadata": {},
          "execution_count": 101
        },
        {
          "output_type": "display_data",
          "data": {
            "image/png": "[encoded data removed]",
            "text/plain": [
              "<Figure size 432x288 with 2 Axes>"
            ]
          },
          "metadata": {
            "needs_background": "light"
          }
        }
      ]
    },
    {
      "cell_type": "code",
      "metadata": {
        "id": "diDAsZJKK-Wn"
      },
      "source": [
        "\n",
        "model_lasso.coef_\n",
        "coeffs_lasso = list(np.argsort(model_lasso.coef_))"
      ],
      "execution_count": null,
      "outputs": []
    },
    {
      "cell_type": "code",
      "metadata": {
        "colab": {
          "base_uri": "https://localhost:8080/"
        },
        "id": "M1SNs9q1Q_lq",
        "outputId": "a5bd4f44-ae76-4da9-a604-570f01326cbb"
      },
      "source": [
        "\n",
        "# most important words:\n",
        "most_important = coeffs_lasso[0][::-1]\n",
        "for i in range(0,10):\n",
        "    print(unique_words_list[most_important[i]])"
      ],
      "execution_count": null,
      "outputs": [
        {
          "output_type": "stream",
          "name": "stdout",
          "text": [
            "bipartisan\n",
            "lyft\n",
            "koala\n",
            "shooter\n",
            "choos\n",
            "tokyo\n",
            "coup\n",
            "gorilla\n",
            "negoti\n",
            "allelectr\n"
          ]
        }
      ]
    },
    {
      "cell_type": "code",
      "metadata": {
        "colab": {
          "base_uri": "https://localhost:8080/"
        },
        "id": "OcrbRd_uLD5u",
        "outputId": "c93a105a-b837-49ae-99e6-5ab0db9fad68"
      },
      "source": [
        "\n",
        "least_important = coeffs_lasso[0]\n",
        "for i in range(0,10):\n",
        "    print(unique_words_list[least_important[i]])"
      ],
      "execution_count": null,
      "outputs": [
        {
          "output_type": "stream",
          "name": "stdout",
          "text": [
            "thing\n",
            "mp\n",
            "halloween\n",
            "inaugur\n",
            "farleft\n",
            "haunt\n",
            "dem\n",
            "chri\n",
            "contract\n",
            "wit\n"
          ]
        }
      ]
    },
    {
      "cell_type": "code",
      "metadata": {
        "id": "_vj67KfVMCN0"
      },
      "source": [
        ""
      ],
      "execution_count": null,
      "outputs": []
    }
  ]
}